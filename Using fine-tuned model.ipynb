{
 "cells": [
  {
   "cell_type": "code",
   "execution_count": 1,
   "id": "7c94385f-acfc-45d1-a427-7e357812d61f",
   "metadata": {},
   "outputs": [],
   "source": [
    "import os\n",
    "import openai\n",
    "from dotenv import load_dotenv\n",
    "\n",
    "load_dotenv()\n",
    "openai.api_key = os.environ[\"OPENAI_API_KEY\"]"
   ]
  },
  {
   "cell_type": "code",
   "execution_count": 23,
   "id": "ea3bafc2-8622-4acb-a93e-c1fee5acb991",
   "metadata": {},
   "outputs": [],
   "source": [
    "fine_tuned_model_id = \"ftjob-i4jMfHFIcnMjGAlB5RkhR577\"\n",
    "fine_tuned_model =\"ft:gpt-3.5-turbo-0613:personal:recipe-ner:7svTaHSg\""
   ]
  },
  {
   "cell_type": "code",
   "execution_count": 24,
   "id": "dc908952-8b01-4699-8329-ad4f11703bca",
   "metadata": {},
   "outputs": [],
   "source": [
    "test_msg = [{'content': 'You are a helpful recipe assistant. You are to extract the '\n",
    "             'generic ingredients from each of the recipes provided.',\n",
    "  'role': 'system'},\n",
    " {'content': 'Title: Beef Brisket\\n'\n",
    "             '\\n'\n",
    "             'Ingredients: [\"4 lb. beef brisket\", \"1 c. catsup\", \"1 c. water\", '\n",
    "             '\"1/2 onion, minced\", \"2 Tbsp. cider vinegar\", \"1 Tbsp. prepared '\n",
    "             'horseradish\", \"1 Tbsp. prepared mustard\", \"1 tsp. salt\", \"1/2 '\n",
    "             'tsp. pepper\"]\\n'\n",
    "             '\\n'\n",
    "             'Generic ingredients: ',\n",
    "  'role': 'user'}]"
   ]
  },
  {
   "cell_type": "code",
   "execution_count": 25,
   "id": "31d3f51e-66e7-4713-998f-cf203fe00ace",
   "metadata": {},
   "outputs": [
    {
     "name": "stdout",
     "output_type": "stream",
     "text": [
      "[\"beef\", \"catsup\", \"water\", \"onion\", \"cider vinegar\", \"horseradish\", \"mustard\", \"salt\", \"pepper\"]\n"
     ]
    }
   ],
   "source": [
    "response = openai.ChatCompletion.create(\n",
    "    model=fine_tuned_model, messages=test_msg, temperature=0, max_tokens=500\n",
    ")\n",
    "print(response[\"choices\"][0][\"message\"][\"content\"])"
   ]
  },
  {
   "cell_type": "code",
   "execution_count": 13,
   "id": "7b8e23a1-2ee8-4fa3-9e13-64772235c2b8",
   "metadata": {},
   "outputs": [
    {
     "data": {
      "text/plain": [
       "<OpenAIObject list at 0x1f739588450> JSON: {\n",
       "  \"object\": \"list\",\n",
       "  \"data\": [\n",
       "    {\n",
       "      \"object\": \"fine_tuning.job\",\n",
       "      \"id\": \"ftjob-v2l3lGPgNIhVvSRVCkGeP5a2\",\n",
       "      \"model\": \"gpt-3.5-turbo-0613\",\n",
       "      \"created_at\": 1693326527,\n",
       "      \"finished_at\": null,\n",
       "      \"fine_tuned_model\": null,\n",
       "      \"organization_id\": \"org-DWylsqUxtlQHvabt0xcBwqOZ\",\n",
       "      \"result_files\": [],\n",
       "      \"status\": \"running\",\n",
       "      \"validation_file\": \"file-RGo7LU56dfbHG1hTdJK93XW1\",\n",
       "      \"training_file\": \"file-Q64x8LPSH3Un3XCOY4C0PB5K\",\n",
       "      \"hyperparameters\": {\n",
       "        \"n_epochs\": 9\n",
       "      },\n",
       "      \"trained_tokens\": null\n",
       "    },\n",
       "    {\n",
       "      \"object\": \"fine_tuning.job\",\n",
       "      \"id\": \"ftjob-i4jMfHFIcnMjGAlB5RkhR577\",\n",
       "      \"model\": \"gpt-3.5-turbo-0613\",\n",
       "      \"created_at\": 1693324413,\n",
       "      \"finished_at\": 1693325008,\n",
       "      \"fine_tuned_model\": \"ft:gpt-3.5-turbo-0613:personal:recipe-ner:7svTaHSg\",\n",
       "      \"organization_id\": \"org-DWylsqUxtlQHvabt0xcBwqOZ\",\n",
       "      \"result_files\": [\n",
       "        \"file-zKaM0ULtXfkAH5do2ykpoGSM\"\n",
       "      ],\n",
       "      \"status\": \"succeeded\",\n",
       "      \"validation_file\": \"file-u8zUZ4hV0x066jA26fXiRQ4c\",\n",
       "      \"training_file\": \"file-pWIiVpVVbD1mQlonAObw2E8H\",\n",
       "      \"hyperparameters\": {\n",
       "        \"n_epochs\": 3\n",
       "      },\n",
       "      \"trained_tokens\": 12819\n",
       "    }\n",
       "  ],\n",
       "  \"has_more\": false\n",
       "}"
      ]
     },
     "execution_count": 13,
     "metadata": {},
     "output_type": "execute_result"
    }
   ],
   "source": [
    "openai.FineTuningJob.list()"
   ]
  },
  {
   "cell_type": "code",
   "execution_count": null,
   "id": "6a8ec65e-0a86-4135-b22c-6ddf4d3ea4cf",
   "metadata": {},
   "outputs": [],
   "source": []
  }
 ],
 "metadata": {
  "kernelspec": {
   "display_name": "Python 3 (ipykernel)",
   "language": "python",
   "name": "python3"
  },
  "language_info": {
   "codemirror_mode": {
    "name": "ipython",
    "version": 3
   },
   "file_extension": ".py",
   "mimetype": "text/x-python",
   "name": "python",
   "nbconvert_exporter": "python",
   "pygments_lexer": "ipython3",
   "version": "3.10.4"
  }
 },
 "nbformat": 4,
 "nbformat_minor": 5
}
